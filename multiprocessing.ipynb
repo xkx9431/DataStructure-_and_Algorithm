{
 "cells": [
  {
   "cell_type": "markdown",
   "metadata": {},
   "source": [
    "# python 多线程\n"
   ]
  },
  {
   "cell_type": "code",
   "execution_count": null,
   "metadata": {},
   "outputs": [],
   "source": [
    "##"
   ]
  },
  {
   "cell_type": "code",
   "execution_count": 2,
   "metadata": {},
   "outputs": [
    {
     "name": "stdout",
     "output_type": "stream",
     "text": [
      "Number of cpu :  4\n"
     ]
    }
   ],
   "source": [
    "\n",
    "import multiprocessing\n",
    "\n",
    "print(\"Number of cpu : \", multiprocessing.cpu_count())"
   ]
  },
  {
   "cell_type": "markdown",
   "metadata": {},
   "source": [
    "# Python multiprocessing Process class"
   ]
  },
  {
   "cell_type": "code",
   "execution_count": 4,
   "metadata": {},
   "outputs": [],
   "source": [
    "from multiprocessing import Process\n",
    "\n",
    "\n",
    "def print_func(continent='Asia'):\n",
    "    print('The name of continent is : ', continent)\n",
    "\n",
    "# if __name__ == \"__main__\":  # confirms that the code is under main function\n",
    "names = ['America', 'Europe', 'Africa']\n",
    "procs = []\n",
    "proc = Process(target=print_func)  # instantiating without any argument\n",
    "procs.append(proc)\n",
    "proc.start()\n",
    "\n",
    "# instantiating process with arguments\n",
    "for name in names:\n",
    "    # print(name)\n",
    "    proc = Process(target=print_func, args=(name,))\n",
    "    procs.append(proc)\n",
    "    proc.start()\n",
    "\n",
    "# complete the processes\n",
    "for proc in procs:\n",
    "    proc.join()\n"
   ]
  },
  {
   "cell_type": "markdown",
   "metadata": {},
   "source": [
    "# Python multiprocessing Queue class"
   ]
  },
  {
   "cell_type": "code",
   "execution_count": 5,
   "metadata": {},
   "outputs": [
    {
     "name": "stdout",
     "output_type": "stream",
     "text": [
      "pushing items to queue:\n",
      "item no:  1   red\n",
      "item no:  2   green\n",
      "item no:  3   blue\n",
      "item no:  4   black\n",
      "\n",
      "popping items from queue:\n",
      "item no:  0   red\n",
      "item no:  1   green\n",
      "item no:  2   blue\n",
      "item no:  3   black\n"
     ]
    }
   ],
   "source": [
    "from multiprocessing import Queue\n",
    "\n",
    "colors = ['red', 'green', 'blue', 'black']\n",
    "cnt = 1\n",
    "# instantiating a queue object\n",
    "queue = Queue()\n",
    "print('pushing items to queue:')\n",
    "for color in colors:\n",
    "    print('item no: ', cnt, ' ', color)\n",
    "    queue.put(color)\n",
    "    cnt += 1\n",
    "\n",
    "print('\\npopping items from queue:')\n",
    "cnt = 0\n",
    "while not queue.empty():\n",
    "    print('item no: ', cnt, ' ', queue.get())\n",
    "    cnt += 1"
   ]
  },
  {
   "cell_type": "markdown",
   "metadata": {},
   "source": [
    "# Python multiprocessing Lock Class\n",
    "\n",
    "The task of Lock class is quite simple. It allows code to claim lock so that no other process can execute the similar code until the lock has be released. So the task of Lock class is mainly two. One is to claim lock and other is to release the lock. To claim lock the, acquire() function is used and to release lock release() function is used."
   ]
  },
  {
   "cell_type": "code",
   "execution_count": 6,
   "metadata": {},
   "outputs": [
    {
     "data": {
      "text/plain": [
       "True"
      ]
     },
     "execution_count": 6,
     "metadata": {},
     "output_type": "execute_result"
    }
   ],
   "source": [
    "from multiprocessing import Lock, Process, Queue, current_process\n",
    "import time\n",
    "import queue # imported for using queue.Empty exception\n",
    "\n",
    "\n",
    "def do_job(tasks_to_accomplish, tasks_that_are_done):\n",
    "    while True:\n",
    "        try:\n",
    "            '''\n",
    "                try to get task from the queue. get_nowait() function will \n",
    "                raise queue.Empty exception if the queue is empty. \n",
    "                queue(False) function would do the same task also.\n",
    "            '''\n",
    "            task = tasks_to_accomplish.get_nowait()\n",
    "        except queue.Empty:\n",
    "\n",
    "            break\n",
    "        else:\n",
    "            '''\n",
    "                if no exception has been raised, add the task completion \n",
    "                message to task_that_are_done queue\n",
    "            '''\n",
    "            print(task)\n",
    "            tasks_that_are_done.put(task + ' is done by ' + current_process().name)\n",
    "            time.sleep(.5)\n",
    "    return True\n",
    "\n",
    "\n",
    "def test():\n",
    "    number_of_task = 10\n",
    "    number_of_processes = 4\n",
    "    tasks_to_accomplish = Queue()\n",
    "    tasks_that_are_done = Queue()\n",
    "    processes = []\n",
    "\n",
    "    for i in range(number_of_task):\n",
    "        tasks_to_accomplish.put(\"Task no \" + str(i))\n",
    "\n",
    "    # creating processes\n",
    "    for w in range(number_of_processes):\n",
    "        p = Process(target=do_job, args=(tasks_to_accomplish, tasks_that_are_done))\n",
    "        processes.append(p)\n",
    "        p.start()\n",
    "\n",
    "    # completing process\n",
    "    for p in processes:\n",
    "        p.join()\n",
    "\n",
    "    # print the output\n",
    "    while not tasks_that_are_done.empty():\n",
    "        print(tasks_that_are_done.get())\n",
    "\n",
    "    return True\n",
    "\n",
    "\n",
    "test()"
   ]
  },
  {
   "cell_type": "code",
   "execution_count": null,
   "metadata": {},
   "outputs": [],
   "source": [
    "from multiprocessing import Pool\n",
    "\n",
    "import time\n",
    "\n",
    "work = ([\"A\", 5], [\"B\", 2], [\"C\", 1], [\"D\", 3])\n",
    "\n",
    "\n",
    "def work_log(work_data):\n",
    "    print(\" Process %s waiting %s seconds\" % (work_data[0], work_data[1]))\n",
    "    time.sleep(int(work_data[1]))\n",
    "    print(\" Process %s Finished.\" % work_data[0])\n",
    "\n",
    "\n",
    "def pool_handler():\n",
    "    p = Pool(2)\n",
    "    p.map(work_log, work)\n",
    "\n",
    "\n",
    "pool_handler()"
   ]
  },
  {
   "cell_type": "code",
   "execution_count": null,
   "metadata": {},
   "outputs": [],
   "source": []
  }
 ],
 "metadata": {
  "kernelspec": {
   "display_name": "Python 3",
   "language": "python",
   "name": "python3"
  },
  "language_info": {
   "codemirror_mode": {
    "name": "ipython",
    "version": 3
   },
   "file_extension": ".py",
   "mimetype": "text/x-python",
   "name": "python",
   "nbconvert_exporter": "python",
   "pygments_lexer": "ipython3",
   "version": "3.6.3"
  }
 },
 "nbformat": 4,
 "nbformat_minor": 2
}
